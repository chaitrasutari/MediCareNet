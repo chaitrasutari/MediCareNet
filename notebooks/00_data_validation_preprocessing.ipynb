{
 "cells": [
  {
   "cell_type": "code",
   "execution_count": 8,
   "id": "2ff0add1",
   "metadata": {},
   "outputs": [],
   "source": [
    "import pandas as pd\n",
    "from pathlib import Path"
   ]
  },
  {
   "cell_type": "code",
   "execution_count": 3,
   "id": "5cbd674f",
   "metadata": {},
   "outputs": [],
   "source": [
    "# Load the diabetic dataset\n",
    "df = pd.read_csv(r\"C:\\Users\\HOME\\Downloads\\MediCareNet\\data\\raw\\diabetic_data.csv\")"
   ]
  },
  {
   "cell_type": "code",
   "execution_count": 4,
   "id": "1d3285cc",
   "metadata": {},
   "outputs": [
    {
     "name": "stdout",
     "output_type": "stream",
     "text": [
      "<class 'pandas.core.frame.DataFrame'>\n",
      "RangeIndex: 101766 entries, 0 to 101765\n",
      "Data columns (total 50 columns):\n",
      " #   Column                    Non-Null Count   Dtype \n",
      "---  ------                    --------------   ----- \n",
      " 0   encounter_id              101766 non-null  int64 \n",
      " 1   patient_nbr               101766 non-null  int64 \n",
      " 2   race                      101766 non-null  object\n",
      " 3   gender                    101766 non-null  object\n",
      " 4   age                       101766 non-null  object\n",
      " 5   weight                    101766 non-null  object\n",
      " 6   admission_type_id         101766 non-null  int64 \n",
      " 7   discharge_disposition_id  101766 non-null  int64 \n",
      " 8   admission_source_id       101766 non-null  int64 \n",
      " 9   time_in_hospital          101766 non-null  int64 \n",
      " 10  payer_code                101766 non-null  object\n",
      " 11  medical_specialty         101766 non-null  object\n",
      " 12  num_lab_procedures        101766 non-null  int64 \n",
      " 13  num_procedures            101766 non-null  int64 \n",
      " 14  num_medications           101766 non-null  int64 \n",
      " 15  number_outpatient         101766 non-null  int64 \n",
      " 16  number_emergency          101766 non-null  int64 \n",
      " 17  number_inpatient          101766 non-null  int64 \n",
      " 18  diag_1                    101766 non-null  object\n",
      " 19  diag_2                    101766 non-null  object\n",
      " 20  diag_3                    101766 non-null  object\n",
      " 21  number_diagnoses          101766 non-null  int64 \n",
      " 22  max_glu_serum             5346 non-null    object\n",
      " 23  A1Cresult                 17018 non-null   object\n",
      " 24  metformin                 101766 non-null  object\n",
      " 25  repaglinide               101766 non-null  object\n",
      " 26  nateglinide               101766 non-null  object\n",
      " 27  chlorpropamide            101766 non-null  object\n",
      " 28  glimepiride               101766 non-null  object\n",
      " 29  acetohexamide             101766 non-null  object\n",
      " 30  glipizide                 101766 non-null  object\n",
      " 31  glyburide                 101766 non-null  object\n",
      " 32  tolbutamide               101766 non-null  object\n",
      " 33  pioglitazone              101766 non-null  object\n",
      " 34  rosiglitazone             101766 non-null  object\n",
      " 35  acarbose                  101766 non-null  object\n",
      " 36  miglitol                  101766 non-null  object\n",
      " 37  troglitazone              101766 non-null  object\n",
      " 38  tolazamide                101766 non-null  object\n",
      " 39  examide                   101766 non-null  object\n",
      " 40  citoglipton               101766 non-null  object\n",
      " 41  insulin                   101766 non-null  object\n",
      " 42  glyburide-metformin       101766 non-null  object\n",
      " 43  glipizide-metformin       101766 non-null  object\n",
      " 44  glimepiride-pioglitazone  101766 non-null  object\n",
      " 45  metformin-rosiglitazone   101766 non-null  object\n",
      " 46  metformin-pioglitazone    101766 non-null  object\n",
      " 47  change                    101766 non-null  object\n",
      " 48  diabetesMed               101766 non-null  object\n",
      " 49  readmitted                101766 non-null  object\n",
      "dtypes: int64(13), object(37)\n",
      "memory usage: 38.8+ MB\n"
     ]
    }
   ],
   "source": [
    "structure = df.info()"
   ]
  },
  {
   "cell_type": "code",
   "execution_count": 5,
   "id": "995ba368",
   "metadata": {},
   "outputs": [
    {
     "data": {
      "text/html": [
       "<div>\n",
       "<style scoped>\n",
       "    .dataframe tbody tr th:only-of-type {\n",
       "        vertical-align: middle;\n",
       "    }\n",
       "\n",
       "    .dataframe tbody tr th {\n",
       "        vertical-align: top;\n",
       "    }\n",
       "\n",
       "    .dataframe thead th {\n",
       "        text-align: right;\n",
       "    }\n",
       "</style>\n",
       "<table border=\"1\" class=\"dataframe\">\n",
       "  <thead>\n",
       "    <tr style=\"text-align: right;\">\n",
       "      <th></th>\n",
       "      <th>encounter_id</th>\n",
       "      <th>patient_nbr</th>\n",
       "      <th>race</th>\n",
       "      <th>gender</th>\n",
       "      <th>age</th>\n",
       "      <th>weight</th>\n",
       "      <th>admission_type_id</th>\n",
       "      <th>discharge_disposition_id</th>\n",
       "      <th>admission_source_id</th>\n",
       "      <th>time_in_hospital</th>\n",
       "      <th>...</th>\n",
       "      <th>citoglipton</th>\n",
       "      <th>insulin</th>\n",
       "      <th>glyburide-metformin</th>\n",
       "      <th>glipizide-metformin</th>\n",
       "      <th>glimepiride-pioglitazone</th>\n",
       "      <th>metformin-rosiglitazone</th>\n",
       "      <th>metformin-pioglitazone</th>\n",
       "      <th>change</th>\n",
       "      <th>diabetesMed</th>\n",
       "      <th>readmitted</th>\n",
       "    </tr>\n",
       "  </thead>\n",
       "  <tbody>\n",
       "    <tr>\n",
       "      <th>0</th>\n",
       "      <td>2278392</td>\n",
       "      <td>8222157</td>\n",
       "      <td>Caucasian</td>\n",
       "      <td>Female</td>\n",
       "      <td>[0-10)</td>\n",
       "      <td>?</td>\n",
       "      <td>6</td>\n",
       "      <td>25</td>\n",
       "      <td>1</td>\n",
       "      <td>1</td>\n",
       "      <td>...</td>\n",
       "      <td>No</td>\n",
       "      <td>No</td>\n",
       "      <td>No</td>\n",
       "      <td>No</td>\n",
       "      <td>No</td>\n",
       "      <td>No</td>\n",
       "      <td>No</td>\n",
       "      <td>No</td>\n",
       "      <td>No</td>\n",
       "      <td>NO</td>\n",
       "    </tr>\n",
       "    <tr>\n",
       "      <th>1</th>\n",
       "      <td>149190</td>\n",
       "      <td>55629189</td>\n",
       "      <td>Caucasian</td>\n",
       "      <td>Female</td>\n",
       "      <td>[10-20)</td>\n",
       "      <td>?</td>\n",
       "      <td>1</td>\n",
       "      <td>1</td>\n",
       "      <td>7</td>\n",
       "      <td>3</td>\n",
       "      <td>...</td>\n",
       "      <td>No</td>\n",
       "      <td>Up</td>\n",
       "      <td>No</td>\n",
       "      <td>No</td>\n",
       "      <td>No</td>\n",
       "      <td>No</td>\n",
       "      <td>No</td>\n",
       "      <td>Ch</td>\n",
       "      <td>Yes</td>\n",
       "      <td>&gt;30</td>\n",
       "    </tr>\n",
       "    <tr>\n",
       "      <th>2</th>\n",
       "      <td>64410</td>\n",
       "      <td>86047875</td>\n",
       "      <td>AfricanAmerican</td>\n",
       "      <td>Female</td>\n",
       "      <td>[20-30)</td>\n",
       "      <td>?</td>\n",
       "      <td>1</td>\n",
       "      <td>1</td>\n",
       "      <td>7</td>\n",
       "      <td>2</td>\n",
       "      <td>...</td>\n",
       "      <td>No</td>\n",
       "      <td>No</td>\n",
       "      <td>No</td>\n",
       "      <td>No</td>\n",
       "      <td>No</td>\n",
       "      <td>No</td>\n",
       "      <td>No</td>\n",
       "      <td>No</td>\n",
       "      <td>Yes</td>\n",
       "      <td>NO</td>\n",
       "    </tr>\n",
       "    <tr>\n",
       "      <th>3</th>\n",
       "      <td>500364</td>\n",
       "      <td>82442376</td>\n",
       "      <td>Caucasian</td>\n",
       "      <td>Male</td>\n",
       "      <td>[30-40)</td>\n",
       "      <td>?</td>\n",
       "      <td>1</td>\n",
       "      <td>1</td>\n",
       "      <td>7</td>\n",
       "      <td>2</td>\n",
       "      <td>...</td>\n",
       "      <td>No</td>\n",
       "      <td>Up</td>\n",
       "      <td>No</td>\n",
       "      <td>No</td>\n",
       "      <td>No</td>\n",
       "      <td>No</td>\n",
       "      <td>No</td>\n",
       "      <td>Ch</td>\n",
       "      <td>Yes</td>\n",
       "      <td>NO</td>\n",
       "    </tr>\n",
       "    <tr>\n",
       "      <th>4</th>\n",
       "      <td>16680</td>\n",
       "      <td>42519267</td>\n",
       "      <td>Caucasian</td>\n",
       "      <td>Male</td>\n",
       "      <td>[40-50)</td>\n",
       "      <td>?</td>\n",
       "      <td>1</td>\n",
       "      <td>1</td>\n",
       "      <td>7</td>\n",
       "      <td>1</td>\n",
       "      <td>...</td>\n",
       "      <td>No</td>\n",
       "      <td>Steady</td>\n",
       "      <td>No</td>\n",
       "      <td>No</td>\n",
       "      <td>No</td>\n",
       "      <td>No</td>\n",
       "      <td>No</td>\n",
       "      <td>Ch</td>\n",
       "      <td>Yes</td>\n",
       "      <td>NO</td>\n",
       "    </tr>\n",
       "  </tbody>\n",
       "</table>\n",
       "<p>5 rows × 50 columns</p>\n",
       "</div>"
      ],
      "text/plain": [
       "   encounter_id  patient_nbr             race  gender      age weight  \\\n",
       "0       2278392      8222157        Caucasian  Female   [0-10)      ?   \n",
       "1        149190     55629189        Caucasian  Female  [10-20)      ?   \n",
       "2         64410     86047875  AfricanAmerican  Female  [20-30)      ?   \n",
       "3        500364     82442376        Caucasian    Male  [30-40)      ?   \n",
       "4         16680     42519267        Caucasian    Male  [40-50)      ?   \n",
       "\n",
       "   admission_type_id  discharge_disposition_id  admission_source_id  \\\n",
       "0                  6                        25                    1   \n",
       "1                  1                         1                    7   \n",
       "2                  1                         1                    7   \n",
       "3                  1                         1                    7   \n",
       "4                  1                         1                    7   \n",
       "\n",
       "   time_in_hospital  ... citoglipton insulin  glyburide-metformin  \\\n",
       "0                 1  ...          No      No                   No   \n",
       "1                 3  ...          No      Up                   No   \n",
       "2                 2  ...          No      No                   No   \n",
       "3                 2  ...          No      Up                   No   \n",
       "4                 1  ...          No  Steady                   No   \n",
       "\n",
       "   glipizide-metformin  glimepiride-pioglitazone  metformin-rosiglitazone  \\\n",
       "0                   No                        No                       No   \n",
       "1                   No                        No                       No   \n",
       "2                   No                        No                       No   \n",
       "3                   No                        No                       No   \n",
       "4                   No                        No                       No   \n",
       "\n",
       "   metformin-pioglitazone  change diabetesMed readmitted  \n",
       "0                      No      No          No         NO  \n",
       "1                      No      Ch         Yes        >30  \n",
       "2                      No      No         Yes         NO  \n",
       "3                      No      Ch         Yes         NO  \n",
       "4                      No      Ch         Yes         NO  \n",
       "\n",
       "[5 rows x 50 columns]"
      ]
     },
     "execution_count": 5,
     "metadata": {},
     "output_type": "execute_result"
    }
   ],
   "source": [
    "df.head(5)"
   ]
  },
  {
   "cell_type": "code",
   "execution_count": 6,
   "id": "09c527a9",
   "metadata": {},
   "outputs": [
    {
     "data": {
      "text/plain": [
       "max_glu_serum               96420\n",
       "A1Cresult                   84748\n",
       "race                            0\n",
       "gender                          0\n",
       "age                             0\n",
       "weight                          0\n",
       "admission_type_id               0\n",
       "discharge_disposition_id        0\n",
       "admission_source_id             0\n",
       "time_in_hospital                0\n",
       "payer_code                      0\n",
       "medical_specialty               0\n",
       "num_lab_procedures              0\n",
       "num_procedures                  0\n",
       "num_medications                 0\n",
       "number_outpatient               0\n",
       "encounter_id                    0\n",
       "patient_nbr                     0\n",
       "number_inpatient                0\n",
       "number_emergency                0\n",
       "diag_1                          0\n",
       "diag_2                          0\n",
       "number_diagnoses                0\n",
       "diag_3                          0\n",
       "metformin                       0\n",
       "repaglinide                     0\n",
       "nateglinide                     0\n",
       "chlorpropamide                  0\n",
       "glimepiride                     0\n",
       "acetohexamide                   0\n",
       "glipizide                       0\n",
       "glyburide                       0\n",
       "tolbutamide                     0\n",
       "pioglitazone                    0\n",
       "rosiglitazone                   0\n",
       "acarbose                        0\n",
       "miglitol                        0\n",
       "troglitazone                    0\n",
       "tolazamide                      0\n",
       "examide                         0\n",
       "citoglipton                     0\n",
       "insulin                         0\n",
       "glyburide-metformin             0\n",
       "glipizide-metformin             0\n",
       "glimepiride-pioglitazone        0\n",
       "metformin-rosiglitazone         0\n",
       "metformin-pioglitazone          0\n",
       "change                          0\n",
       "diabetesMed                     0\n",
       "readmitted                      0\n",
       "dtype: int64"
      ]
     },
     "execution_count": 6,
     "metadata": {},
     "output_type": "execute_result"
    }
   ],
   "source": [
    "df.isnull().sum().sort_values(ascending=False)"
   ]
  },
  {
   "cell_type": "code",
   "execution_count": 7,
   "id": "d8a8e8a3",
   "metadata": {},
   "outputs": [
    {
     "data": {
      "text/plain": [
       "readmitted\n",
       "NO     54864\n",
       ">30    35545\n",
       "<30    11357\n",
       "Name: count, dtype: int64"
      ]
     },
     "execution_count": 7,
     "metadata": {},
     "output_type": "execute_result"
    }
   ],
   "source": [
    "readmitted_counts = df['readmitted'].value_counts()\n",
    "readmitted_counts.head()"
   ]
  },
  {
   "cell_type": "code",
   "execution_count": 10,
   "id": "48c3548f",
   "metadata": {},
   "outputs": [],
   "source": [
    "# Paths\n",
    "input_path = Path(\"../data/raw/diabetic_data.csv\")\n",
    "output_path = Path(\"../data/processed/cleaned_data.csv\")"
   ]
  },
  {
   "cell_type": "code",
   "execution_count": 11,
   "id": "9b48b55a",
   "metadata": {},
   "outputs": [],
   "source": [
    "# Convert readmitted column to binary target\n",
    "df['readmitted_30'] = df['readmitted'].apply(lambda x: 1 if x == '<30' else 0)\n",
    "\n",
    "# Drop the original column\n",
    "df = df.drop(columns=['readmitted'])"
   ]
  },
  {
   "cell_type": "code",
   "execution_count": 12,
   "id": "4e634d7e",
   "metadata": {},
   "outputs": [],
   "source": [
    "# Replace '?' with NaN for analysis\n",
    "df = df.replace(\"?\", pd.NA)"
   ]
  },
  {
   "cell_type": "code",
   "execution_count": 13,
   "id": "39e86040",
   "metadata": {},
   "outputs": [],
   "source": [
    "id_uniqueness = {\n",
    "    \"encounter_id_unique\": df['encounter_id'].is_unique,\n",
    "    \"patient_nbr_unique\": df['patient_nbr'].is_unique\n",
    "}"
   ]
  },
  {
   "cell_type": "code",
   "execution_count": 14,
   "id": "f0296a82",
   "metadata": {},
   "outputs": [
    {
     "data": {
      "text/plain": [
       "{'encounter_id_unique': True, 'patient_nbr_unique': False}"
      ]
     },
     "execution_count": 14,
     "metadata": {},
     "output_type": "execute_result"
    }
   ],
   "source": [
    "id_uniqueness"
   ]
  },
  {
   "cell_type": "markdown",
   "id": "968ccf9e",
   "metadata": {},
   "source": [
    "encounter_id is unique, acting like a row ID. patient_nbr is reused but isn’t meaningful without longitudinal modeling.\n",
    "→ Best practice: Drop both unless you're doing patient-level sequence modeling."
   ]
  },
  {
   "cell_type": "code",
   "execution_count": null,
   "id": "b4f687a5",
   "metadata": {},
   "outputs": [],
   "source": [
    "# 2. Check missing or single-value dominant columns\n",
    "high_missing_or_dominant = []\n",
    "for col in ['weight', 'payer_code', 'medical_specialty']:\n",
    "    top_value = df[col].value_counts(dropna=False).index[0]\n",
    "    top_pct = df[col].value_counts(normalize=True, dropna=False).iloc[0]\n",
    "    high_missing_or_dominant.append({\n",
    "        \"Column\": col,\n",
    "        \"Top Value\": top_value,\n",
    "        \"Top %\": f\"{top_pct:.2%}\"\n",
    "    })"
   ]
  },
  {
   "cell_type": "code",
   "execution_count": 16,
   "id": "8a534d6f",
   "metadata": {},
   "outputs": [
    {
     "data": {
      "text/html": [
       "<div>\n",
       "<style scoped>\n",
       "    .dataframe tbody tr th:only-of-type {\n",
       "        vertical-align: middle;\n",
       "    }\n",
       "\n",
       "    .dataframe tbody tr th {\n",
       "        vertical-align: top;\n",
       "    }\n",
       "\n",
       "    .dataframe thead th {\n",
       "        text-align: right;\n",
       "    }\n",
       "</style>\n",
       "<table border=\"1\" class=\"dataframe\">\n",
       "  <thead>\n",
       "    <tr style=\"text-align: right;\">\n",
       "      <th></th>\n",
       "      <th>Column</th>\n",
       "      <th>Top Value</th>\n",
       "      <th>Top %</th>\n",
       "    </tr>\n",
       "  </thead>\n",
       "  <tbody>\n",
       "    <tr>\n",
       "      <th>0</th>\n",
       "      <td>weight</td>\n",
       "      <td>&lt;NA&gt;</td>\n",
       "      <td>96.86%</td>\n",
       "    </tr>\n",
       "    <tr>\n",
       "      <th>1</th>\n",
       "      <td>payer_code</td>\n",
       "      <td>&lt;NA&gt;</td>\n",
       "      <td>39.56%</td>\n",
       "    </tr>\n",
       "    <tr>\n",
       "      <th>2</th>\n",
       "      <td>medical_specialty</td>\n",
       "      <td>&lt;NA&gt;</td>\n",
       "      <td>49.08%</td>\n",
       "    </tr>\n",
       "  </tbody>\n",
       "</table>\n",
       "</div>"
      ],
      "text/plain": [
       "              Column Top Value   Top %\n",
       "0             weight      <NA>  96.86%\n",
       "1         payer_code      <NA>  39.56%\n",
       "2  medical_specialty      <NA>  49.08%"
      ]
     },
     "execution_count": 16,
     "metadata": {},
     "output_type": "execute_result"
    }
   ],
   "source": [
    "pd.DataFrame(high_missing_or_dominant)"
   ]
  },
  {
   "cell_type": "markdown",
   "id": "242f3b82",
   "metadata": {},
   "source": [
    "These fields have >90% missing or default values — keeping them would add noise."
   ]
  },
  {
   "cell_type": "code",
   "execution_count": 17,
   "id": "4fd184b1",
   "metadata": {},
   "outputs": [],
   "source": [
    "# 3. Check other columns with >90% same value\n",
    "over_90_same = []\n",
    "for col in df.columns:\n",
    "    top_value = df[col].value_counts(dropna=False).index[0]\n",
    "    top_pct = df[col].value_counts(normalize=True, dropna=False).iloc[0]\n",
    "    if top_pct > 0.90:\n",
    "        over_90_same.append({\n",
    "            \"Column\": col,\n",
    "            \"Top Value\": top_value,\n",
    "            \"Top %\": f\"{top_pct:.2%}\"\n",
    "        })"
   ]
  },
  {
   "cell_type": "code",
   "execution_count": 18,
   "id": "0b70b60a",
   "metadata": {},
   "outputs": [
    {
     "data": {
      "text/html": [
       "<div>\n",
       "<style scoped>\n",
       "    .dataframe tbody tr th:only-of-type {\n",
       "        vertical-align: middle;\n",
       "    }\n",
       "\n",
       "    .dataframe tbody tr th {\n",
       "        vertical-align: top;\n",
       "    }\n",
       "\n",
       "    .dataframe thead th {\n",
       "        text-align: right;\n",
       "    }\n",
       "</style>\n",
       "<table border=\"1\" class=\"dataframe\">\n",
       "  <thead>\n",
       "    <tr style=\"text-align: right;\">\n",
       "      <th></th>\n",
       "      <th>Column</th>\n",
       "      <th>Top Value</th>\n",
       "      <th>Top %</th>\n",
       "    </tr>\n",
       "  </thead>\n",
       "  <tbody>\n",
       "    <tr>\n",
       "      <th>0</th>\n",
       "      <td>weight</td>\n",
       "      <td>&lt;NA&gt;</td>\n",
       "      <td>96.86%</td>\n",
       "    </tr>\n",
       "    <tr>\n",
       "      <th>1</th>\n",
       "      <td>max_glu_serum</td>\n",
       "      <td>NaN</td>\n",
       "      <td>94.75%</td>\n",
       "    </tr>\n",
       "    <tr>\n",
       "      <th>2</th>\n",
       "      <td>repaglinide</td>\n",
       "      <td>No</td>\n",
       "      <td>98.49%</td>\n",
       "    </tr>\n",
       "    <tr>\n",
       "      <th>3</th>\n",
       "      <td>nateglinide</td>\n",
       "      <td>No</td>\n",
       "      <td>99.31%</td>\n",
       "    </tr>\n",
       "    <tr>\n",
       "      <th>4</th>\n",
       "      <td>chlorpropamide</td>\n",
       "      <td>No</td>\n",
       "      <td>99.92%</td>\n",
       "    </tr>\n",
       "    <tr>\n",
       "      <th>5</th>\n",
       "      <td>glimepiride</td>\n",
       "      <td>No</td>\n",
       "      <td>94.90%</td>\n",
       "    </tr>\n",
       "    <tr>\n",
       "      <th>6</th>\n",
       "      <td>acetohexamide</td>\n",
       "      <td>No</td>\n",
       "      <td>100.00%</td>\n",
       "    </tr>\n",
       "    <tr>\n",
       "      <th>7</th>\n",
       "      <td>tolbutamide</td>\n",
       "      <td>No</td>\n",
       "      <td>99.98%</td>\n",
       "    </tr>\n",
       "    <tr>\n",
       "      <th>8</th>\n",
       "      <td>pioglitazone</td>\n",
       "      <td>No</td>\n",
       "      <td>92.80%</td>\n",
       "    </tr>\n",
       "    <tr>\n",
       "      <th>9</th>\n",
       "      <td>rosiglitazone</td>\n",
       "      <td>No</td>\n",
       "      <td>93.75%</td>\n",
       "    </tr>\n",
       "    <tr>\n",
       "      <th>10</th>\n",
       "      <td>acarbose</td>\n",
       "      <td>No</td>\n",
       "      <td>99.70%</td>\n",
       "    </tr>\n",
       "    <tr>\n",
       "      <th>11</th>\n",
       "      <td>miglitol</td>\n",
       "      <td>No</td>\n",
       "      <td>99.96%</td>\n",
       "    </tr>\n",
       "    <tr>\n",
       "      <th>12</th>\n",
       "      <td>troglitazone</td>\n",
       "      <td>No</td>\n",
       "      <td>100.00%</td>\n",
       "    </tr>\n",
       "    <tr>\n",
       "      <th>13</th>\n",
       "      <td>tolazamide</td>\n",
       "      <td>No</td>\n",
       "      <td>99.96%</td>\n",
       "    </tr>\n",
       "    <tr>\n",
       "      <th>14</th>\n",
       "      <td>examide</td>\n",
       "      <td>No</td>\n",
       "      <td>100.00%</td>\n",
       "    </tr>\n",
       "    <tr>\n",
       "      <th>15</th>\n",
       "      <td>citoglipton</td>\n",
       "      <td>No</td>\n",
       "      <td>100.00%</td>\n",
       "    </tr>\n",
       "    <tr>\n",
       "      <th>16</th>\n",
       "      <td>glyburide-metformin</td>\n",
       "      <td>No</td>\n",
       "      <td>99.31%</td>\n",
       "    </tr>\n",
       "    <tr>\n",
       "      <th>17</th>\n",
       "      <td>glipizide-metformin</td>\n",
       "      <td>No</td>\n",
       "      <td>99.99%</td>\n",
       "    </tr>\n",
       "    <tr>\n",
       "      <th>18</th>\n",
       "      <td>glimepiride-pioglitazone</td>\n",
       "      <td>No</td>\n",
       "      <td>100.00%</td>\n",
       "    </tr>\n",
       "    <tr>\n",
       "      <th>19</th>\n",
       "      <td>metformin-rosiglitazone</td>\n",
       "      <td>No</td>\n",
       "      <td>100.00%</td>\n",
       "    </tr>\n",
       "    <tr>\n",
       "      <th>20</th>\n",
       "      <td>metformin-pioglitazone</td>\n",
       "      <td>No</td>\n",
       "      <td>100.00%</td>\n",
       "    </tr>\n",
       "  </tbody>\n",
       "</table>\n",
       "</div>"
      ],
      "text/plain": [
       "                      Column Top Value    Top %\n",
       "0                     weight      <NA>   96.86%\n",
       "1              max_glu_serum       NaN   94.75%\n",
       "2                repaglinide        No   98.49%\n",
       "3                nateglinide        No   99.31%\n",
       "4             chlorpropamide        No   99.92%\n",
       "5                glimepiride        No   94.90%\n",
       "6              acetohexamide        No  100.00%\n",
       "7                tolbutamide        No   99.98%\n",
       "8               pioglitazone        No   92.80%\n",
       "9              rosiglitazone        No   93.75%\n",
       "10                  acarbose        No   99.70%\n",
       "11                  miglitol        No   99.96%\n",
       "12              troglitazone        No  100.00%\n",
       "13                tolazamide        No   99.96%\n",
       "14                   examide        No  100.00%\n",
       "15               citoglipton        No  100.00%\n",
       "16       glyburide-metformin        No   99.31%\n",
       "17       glipizide-metformin        No   99.99%\n",
       "18  glimepiride-pioglitazone        No  100.00%\n",
       "19   metformin-rosiglitazone        No  100.00%\n",
       "20    metformin-pioglitazone        No  100.00%"
      ]
     },
     "execution_count": 18,
     "metadata": {},
     "output_type": "execute_result"
    }
   ],
   "source": [
    "pd.DataFrame(over_90_same)"
   ]
  },
  {
   "cell_type": "markdown",
   "id": "6f371eb0",
   "metadata": {},
   "source": [
    "Drop or combine these into a single “used_other_drugs” flag during feature engineering if needed."
   ]
  },
  {
   "cell_type": "code",
   "execution_count": 22,
   "id": "e9d31d69",
   "metadata": {},
   "outputs": [],
   "source": [
    "# Drop ID columns (not useful for prediction)\n",
    "df = df.drop(columns=['encounter_id', 'patient_nbr'])\n",
    "\n",
    "# Drop high-missing or single-value columns\n",
    "to_drop = ['weight', 'payer_code', 'medical_specialty']\n",
    "df = df.drop(columns=to_drop)"
   ]
  },
  {
   "cell_type": "code",
   "execution_count": 24,
   "id": "c715e3d9",
   "metadata": {},
   "outputs": [
    {
     "data": {
      "text/plain": [
       "max_glu_serum               96420\n",
       "A1Cresult                   84748\n",
       "race                         2273\n",
       "diag_3                       1423\n",
       "diag_2                        358\n",
       "diag_1                         21\n",
       "admission_source_id             0\n",
       "num_lab_procedures              0\n",
       "time_in_hospital                0\n",
       "gender                          0\n",
       "age                             0\n",
       "admission_type_id               0\n",
       "discharge_disposition_id        0\n",
       "number_inpatient                0\n",
       "number_emergency                0\n",
       "number_outpatient               0\n",
       "num_medications                 0\n",
       "num_procedures                  0\n",
       "number_diagnoses                0\n",
       "metformin                       0\n",
       "repaglinide                     0\n",
       "nateglinide                     0\n",
       "chlorpropamide                  0\n",
       "glimepiride                     0\n",
       "acetohexamide                   0\n",
       "glipizide                       0\n",
       "glyburide                       0\n",
       "tolbutamide                     0\n",
       "pioglitazone                    0\n",
       "rosiglitazone                   0\n",
       "acarbose                        0\n",
       "miglitol                        0\n",
       "troglitazone                    0\n",
       "tolazamide                      0\n",
       "examide                         0\n",
       "citoglipton                     0\n",
       "insulin                         0\n",
       "glyburide-metformin             0\n",
       "glipizide-metformin             0\n",
       "glimepiride-pioglitazone        0\n",
       "metformin-rosiglitazone         0\n",
       "metformin-pioglitazone          0\n",
       "change                          0\n",
       "diabetesMed                     0\n",
       "readmitted_30                   0\n",
       "dtype: int64"
      ]
     },
     "execution_count": 24,
     "metadata": {},
     "output_type": "execute_result"
    }
   ],
   "source": [
    "df.isna().sum().sort_values(ascending=False)"
   ]
  },
  {
   "cell_type": "code",
   "execution_count": 25,
   "id": "5bb7f68e",
   "metadata": {},
   "outputs": [
    {
     "data": {
      "text/plain": [
       "(  Value  Count\n",
       " 0   NaN  96420\n",
       " 1  Norm   2597\n",
       " 2  >200   1485\n",
       " 3  >300   1264,\n",
       " 4)"
      ]
     },
     "execution_count": 25,
     "metadata": {},
     "output_type": "execute_result"
    }
   ],
   "source": [
    "# Get unique values and their counts\n",
    "unique_values = df['max_glu_serum'].value_counts(dropna=False).reset_index()\n",
    "unique_values.columns = ['Value', 'Count']\n",
    "unique_count = df['max_glu_serum'].nunique(dropna=False)\n",
    "\n",
    "unique_values, unique_count"
   ]
  },
  {
   "cell_type": "code",
   "execution_count": 26,
   "id": "b9ddab83",
   "metadata": {},
   "outputs": [
    {
     "data": {
      "text/plain": [
       "(  Value  Count\n",
       " 0   NaN  84748\n",
       " 1    >8   8216\n",
       " 2  Norm   4990\n",
       " 3    >7   3812,\n",
       " 4)"
      ]
     },
     "execution_count": 26,
     "metadata": {},
     "output_type": "execute_result"
    }
   ],
   "source": [
    "unique_values = df['A1Cresult'].value_counts(dropna=False).reset_index()\n",
    "unique_values.columns = ['Value', 'Count']\n",
    "unique_count = df['A1Cresult'].nunique(dropna=False)\n",
    "\n",
    "unique_values, unique_count"
   ]
  },
  {
   "cell_type": "code",
   "execution_count": 37,
   "id": "60373aca",
   "metadata": {},
   "outputs": [
    {
     "data": {
      "text/plain": [
       "(             Value  Count\n",
       " 0           Female  54708\n",
       " 1             Male  47055\n",
       " 2  Unknown/Invalid      3,\n",
       " 3)"
      ]
     },
     "execution_count": 37,
     "metadata": {},
     "output_type": "execute_result"
    }
   ],
   "source": [
    "unique_values = df['gender'].value_counts(dropna=False).reset_index()\n",
    "unique_values.columns = ['Value', 'Count']\n",
    "unique_count = df['gender'].nunique(dropna=False)\n",
    "\n",
    "unique_values, unique_count"
   ]
  },
  {
   "cell_type": "code",
   "execution_count": 38,
   "id": "6b4a28e0",
   "metadata": {},
   "outputs": [
    {
     "data": {
      "text/plain": [
       "(             Value  Count\n",
       " 0        Caucasian  76099\n",
       " 1  AfricanAmerican  19210\n",
       " 2             <NA>   2273\n",
       " 3         Hispanic   2037\n",
       " 4            Other   1506\n",
       " 5            Asian    641,\n",
       " 6)"
      ]
     },
     "execution_count": 38,
     "metadata": {},
     "output_type": "execute_result"
    }
   ],
   "source": [
    "unique_values = df['race'].value_counts(dropna=False).reset_index()\n",
    "unique_values.columns = ['Value', 'Count']\n",
    "unique_count = df['race'].nunique(dropna=False)\n",
    "\n",
    "unique_values, unique_count"
   ]
  },
  {
   "cell_type": "code",
   "execution_count": 39,
   "id": "43bdf249",
   "metadata": {},
   "outputs": [],
   "source": [
    "df = df[df['gender'] != 'Unknown/Invalid']\n",
    "df = df[df['race'].notna()]"
   ]
  },
  {
   "cell_type": "code",
   "execution_count": 40,
   "id": "0b252e29",
   "metadata": {},
   "outputs": [
    {
     "data": {
      "text/plain": [
       "(    Value  Count\n",
       " 0  Female  53575\n",
       " 1    Male  45917,\n",
       " 2)"
      ]
     },
     "execution_count": 40,
     "metadata": {},
     "output_type": "execute_result"
    }
   ],
   "source": [
    "unique_values = df['gender'].value_counts(dropna=False).reset_index()\n",
    "unique_values.columns = ['Value', 'Count']\n",
    "unique_count = df['gender'].nunique(dropna=False)\n",
    "\n",
    "unique_values, unique_count"
   ]
  },
  {
   "cell_type": "code",
   "execution_count": null,
   "id": "72798264",
   "metadata": {},
   "outputs": [
    {
     "data": {
      "text/plain": [
       "(             Value  Count\n",
       " 0        Caucasian  76099\n",
       " 1  AfricanAmerican  19210\n",
       " 2         Hispanic   2037\n",
       " 3            Other   1505\n",
       " 4            Asian    641,\n",
       " 5)"
      ]
     },
     "execution_count": 41,
     "metadata": {},
     "output_type": "execute_result"
    }
   ],
   "source": [
    "unique_values = df['race'].value_counts(dropna=False).reset_index()\n",
    "unique_values.columns = ['Value', 'Count']\n",
    "unique_count = df['race'].nunique(dropna=False)\n",
    "\n",
    "unique_values, unique_count"
   ]
  },
  {
   "cell_type": "code",
   "execution_count": 34,
   "id": "f88837ee",
   "metadata": {},
   "outputs": [
    {
     "name": "stdout",
     "output_type": "stream",
     "text": [
      "21\n",
      "358\n",
      "1423\n"
     ]
    }
   ],
   "source": [
    "print(df['diag_1'].isna().sum())\n",
    "print(df['diag_2'].isna().sum())\n",
    "print(df['diag_3'].isna().sum())"
   ]
  },
  {
   "cell_type": "code",
   "execution_count": 35,
   "id": "3c73e7e8",
   "metadata": {},
   "outputs": [],
   "source": [
    "df['diag_1'] = df['diag_1'].fillna('Unknown')\n",
    "df['diag_2'] = df['diag_2'].fillna('Unknown')\n",
    "df['diag_3'] = df['diag_3'].fillna('Unknown')"
   ]
  },
  {
   "cell_type": "code",
   "execution_count": 36,
   "id": "e12ce1df",
   "metadata": {},
   "outputs": [],
   "source": [
    "# Replace NaN with 'None'\n",
    "df['max_glu_serum'] = df['max_glu_serum'].fillna('None')\n",
    "df['A1Cresult'] = df['A1Cresult'].fillna('None')\n",
    "\n",
    "# Encode values manually\n",
    "glu_encoding = {'None': 0, 'Norm': 1, '>200': 2, '>300': 3}\n",
    "a1c_encoding = {'None': 0, 'Norm': 1, '>7': 2, '>8': 3}\n",
    "\n",
    "df['max_glu_serum'] = df['max_glu_serum'].map(glu_encoding)\n",
    "df['A1Cresult'] = df['A1Cresult'].map(a1c_encoding)"
   ]
  },
  {
   "cell_type": "code",
   "execution_count": 44,
   "id": "0ed16991",
   "metadata": {},
   "outputs": [
    {
     "data": {
      "text/html": [
       "<div>\n",
       "<style scoped>\n",
       "    .dataframe tbody tr th:only-of-type {\n",
       "        vertical-align: middle;\n",
       "    }\n",
       "\n",
       "    .dataframe tbody tr th {\n",
       "        vertical-align: top;\n",
       "    }\n",
       "\n",
       "    .dataframe thead th {\n",
       "        text-align: right;\n",
       "    }\n",
       "</style>\n",
       "<table border=\"1\" class=\"dataframe\">\n",
       "  <thead>\n",
       "    <tr style=\"text-align: right;\">\n",
       "      <th></th>\n",
       "      <th>diag_1</th>\n",
       "      <th>diag_1_category</th>\n",
       "      <th>diag_2</th>\n",
       "      <th>diag_2_category</th>\n",
       "      <th>diag_3</th>\n",
       "      <th>diag_3_category</th>\n",
       "    </tr>\n",
       "  </thead>\n",
       "  <tbody>\n",
       "    <tr>\n",
       "      <th>98930</th>\n",
       "      <td>427</td>\n",
       "      <td>Circulatory</td>\n",
       "      <td>424</td>\n",
       "      <td>Circulatory</td>\n",
       "      <td>414</td>\n",
       "      <td>Circulatory</td>\n",
       "    </tr>\n",
       "    <tr>\n",
       "      <th>52808</th>\n",
       "      <td>410</td>\n",
       "      <td>Circulatory</td>\n",
       "      <td>276</td>\n",
       "      <td>Other</td>\n",
       "      <td>276</td>\n",
       "      <td>Other</td>\n",
       "    </tr>\n",
       "    <tr>\n",
       "      <th>75659</th>\n",
       "      <td>786</td>\n",
       "      <td>Respiratory</td>\n",
       "      <td>401</td>\n",
       "      <td>Circulatory</td>\n",
       "      <td>250</td>\n",
       "      <td>Diabetes</td>\n",
       "    </tr>\n",
       "    <tr>\n",
       "      <th>88061</th>\n",
       "      <td>250.13</td>\n",
       "      <td>Diabetes</td>\n",
       "      <td>790</td>\n",
       "      <td>Other</td>\n",
       "      <td>V58</td>\n",
       "      <td>Supplemental</td>\n",
       "    </tr>\n",
       "    <tr>\n",
       "      <th>16541</th>\n",
       "      <td>562</td>\n",
       "      <td>Digestive</td>\n",
       "      <td>553</td>\n",
       "      <td>Digestive</td>\n",
       "      <td>250</td>\n",
       "      <td>Diabetes</td>\n",
       "    </tr>\n",
       "  </tbody>\n",
       "</table>\n",
       "</div>"
      ],
      "text/plain": [
       "       diag_1 diag_1_category diag_2 diag_2_category diag_3 diag_3_category\n",
       "98930     427     Circulatory    424     Circulatory    414     Circulatory\n",
       "52808     410     Circulatory    276           Other    276           Other\n",
       "75659     786     Respiratory    401     Circulatory    250        Diabetes\n",
       "88061  250.13        Diabetes    790           Other    V58    Supplemental\n",
       "16541     562       Digestive    553       Digestive    250        Diabetes"
      ]
     },
     "execution_count": 44,
     "metadata": {},
     "output_type": "execute_result"
    }
   ],
   "source": [
    "# Function to map ICD-9 codes to categories\n",
    "def map_icd_to_category(code):\n",
    "    try:\n",
    "        if code == 'Unknown':\n",
    "            return 'Unknown'\n",
    "        if code.startswith('E'):\n",
    "            return 'External Causes'\n",
    "        if code.startswith('V'):\n",
    "            return 'Supplemental'\n",
    "        code = float(code)\n",
    "        if 390 <= code <= 459 or code == 785:\n",
    "            return 'Circulatory'\n",
    "        elif 460 <= code <= 519 or code == 786:\n",
    "            return 'Respiratory'\n",
    "        elif 520 <= code <= 579 or code == 787:\n",
    "            return 'Digestive'\n",
    "        elif 250 <= code < 251:\n",
    "            return 'Diabetes'\n",
    "        elif 800 <= code <= 999:\n",
    "            return 'Injury'\n",
    "        elif 710 <= code <= 739:\n",
    "            return 'Musculoskeletal'\n",
    "        elif 580 <= code <= 629 or code == 788:\n",
    "            return 'Genitourinary'\n",
    "        elif 140 <= code <= 239:\n",
    "            return 'Neoplasms'\n",
    "        else:\n",
    "            return 'Other'\n",
    "    except:\n",
    "        return 'Unknown'\n",
    "\n",
    "# Apply mapping to diag columns\n",
    "for col in ['diag_1', 'diag_2', 'diag_3']:\n",
    "    df[f'{col}_category'] = df[col].apply(map_icd_to_category)\n",
    "\n",
    "# Show a sample of the mapped categories\n",
    "df[['diag_1', 'diag_1_category', 'diag_2', 'diag_2_category', 'diag_3', 'diag_3_category']].sample(5)\n"
   ]
  },
  {
   "cell_type": "code",
   "execution_count": 45,
   "id": "07e9c802",
   "metadata": {},
   "outputs": [
    {
     "name": "stdout",
     "output_type": "stream",
     "text": [
      "Cleaned data saved to: ..\\data\\processed\\cleaned_data.csv\n",
      "Final shape: (99492, 48)\n"
     ]
    }
   ],
   "source": [
    "# -------------------------\n",
    "# 8. Save cleaned dataset\n",
    "# -------------------------\n",
    "\n",
    "output_path.parent.mkdir(parents=True, exist_ok=True)\n",
    "df.to_csv(output_path, index=False)\n",
    "\n",
    "print(f\"Cleaned data saved to: {output_path}\")\n",
    "print(f\"Final shape: {df.shape}\")"
   ]
  }
 ],
 "metadata": {
  "kernelspec": {
   "display_name": ".venv",
   "language": "python",
   "name": "python3"
  },
  "language_info": {
   "codemirror_mode": {
    "name": "ipython",
    "version": 3
   },
   "file_extension": ".py",
   "mimetype": "text/x-python",
   "name": "python",
   "nbconvert_exporter": "python",
   "pygments_lexer": "ipython3",
   "version": "3.9.0"
  }
 },
 "nbformat": 4,
 "nbformat_minor": 5
}
