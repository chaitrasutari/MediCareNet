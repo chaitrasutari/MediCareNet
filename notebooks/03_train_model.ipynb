{
 "cells": [
  {
   "cell_type": "code",
   "execution_count": 20,
   "id": "453c59ab",
   "metadata": {},
   "outputs": [],
   "source": [
    "import pandas as pd\n",
    "import mlflow\n",
    "import mlflow.sklearn\n",
    "from sklearn.model_selection import train_test_split, cross_val_score\n",
    "from sklearn.metrics import f1_score, roc_auc_score\n",
    "from sklearn.linear_model import LogisticRegression\n",
    "from sklearn.ensemble import RandomForestClassifier\n",
    "from mlflow.models.signature import infer_signature\n",
    "import xgboost as xgb\n",
    "import matplotlib.pyplot as plt\n",
    "import numpy as np"
   ]
  },
  {
   "cell_type": "code",
   "execution_count": 4,
   "id": "823ddad8",
   "metadata": {},
   "outputs": [],
   "source": [
    "# ----------------------\n",
    "# Step 1: Load Data\n",
    "# ----------------------\n",
    "data_path = \"../data/processed/feature_engineered_data.csv\"  # Adjust path if needed\n",
    "df = pd.read_csv(data_path)"
   ]
  },
  {
   "cell_type": "code",
   "execution_count": 5,
   "id": "a0085c58",
   "metadata": {},
   "outputs": [],
   "source": [
    "# ----------------------\n",
    "# Step 2: Separate features and target\n",
    "# ----------------------\n",
    "target_col = \"readmitted_30\"\n",
    "X = df.drop(columns=[target_col])\n",
    "y = df[target_col]"
   ]
  },
  {
   "cell_type": "code",
   "execution_count": 6,
   "id": "3fa98033",
   "metadata": {},
   "outputs": [
    {
     "name": "stdout",
     "output_type": "stream",
     "text": [
      "Categorical columns to encode: ['gender', 'diag_1', 'diag_2', 'diag_3', 'metformin', 'repaglinide', 'nateglinide', 'chlorpropamide', 'glimepiride', 'acetohexamide', 'glipizide', 'glyburide', 'tolbutamide', 'pioglitazone', 'rosiglitazone', 'acarbose', 'miglitol', 'troglitazone', 'tolazamide', 'examide', 'citoglipton', 'insulin', 'glyburide-metformin', 'glipizide-metformin', 'glimepiride-pioglitazone', 'metformin-rosiglitazone', 'metformin-pioglitazone', 'change', 'diabetesMed', 'diag_1_category', 'diag_2_category', 'diag_3_category']\n"
     ]
    }
   ],
   "source": [
    "# ----------------------\n",
    "# Step 3: Identify categorical columns (object dtype)\n",
    "# ----------------------\n",
    "cat_cols = X.select_dtypes(include=[\"object\"]).columns.tolist()\n",
    "\n",
    "print(f\"Categorical columns to encode: {cat_cols}\")"
   ]
  },
  {
   "cell_type": "code",
   "execution_count": 7,
   "id": "fd82050a",
   "metadata": {},
   "outputs": [],
   "source": [
    "# ----------------------\n",
    "# Step 4: One-hot encode categorical columns\n",
    "# ----------------------\n",
    "X_encoded = pd.get_dummies(X, columns=cat_cols, drop_first=True)"
   ]
  },
  {
   "cell_type": "code",
   "execution_count": 8,
   "id": "5da327e1",
   "metadata": {},
   "outputs": [],
   "source": [
    "# Clean column names (optional, recommended for XGBoost)\n",
    "def clean_column_names(columns):\n",
    "    return columns.str.replace(r\"[\\[\\]\\(\\)<>\\-]\", \"_\", regex=True).str.replace(\"__\", \"_\")"
   ]
  },
  {
   "cell_type": "code",
   "execution_count": 9,
   "id": "484198b2",
   "metadata": {},
   "outputs": [],
   "source": [
    "X_encoded.columns = clean_column_names(X_encoded.columns)"
   ]
  },
  {
   "cell_type": "code",
   "execution_count": 10,
   "id": "a2f5f9c8",
   "metadata": {},
   "outputs": [
    {
     "data": {
      "image/png": "[encoded data removed]",
      "text/plain": [
       "<Figure size 640x480 with 1 Axes>"
      ]
     },
     "metadata": {},
     "output_type": "display_data"
    }
   ],
   "source": [
    "from sklearn.decomposition import TruncatedSVD\n",
    "import matplotlib.pyplot as plt\n",
    "\n",
    "svd = TruncatedSVD(n_components=500, random_state=42)\n",
    "svd.fit(X_encoded)\n",
    "\n",
    "explained_variance = svd.explained_variance_ratio_\n",
    "cumulative_variance = explained_variance.cumsum()\n",
    "\n",
    "plt.plot(range(1, 501), cumulative_variance)\n",
    "plt.xlabel(\"Number of Components\")\n",
    "plt.ylabel(\"Cumulative Explained Variance\")\n",
    "plt.grid(True)\n",
    "plt.show()\n"
   ]
  },
  {
   "cell_type": "code",
   "execution_count": 35,
   "id": "7da5c60e",
   "metadata": {},
   "outputs": [],
   "source": [
    "# Apply TruncatedSVD for dimensionality reduction\n",
    "n_components = 50  # Adjust based on memory/performance trade-off\n",
    "svd = TruncatedSVD(n_components=n_components, random_state=42)\n",
    "\n",
    "X_reduced = svd.fit_transform(X_encoded)\n"
   ]
  },
  {
   "cell_type": "code",
   "execution_count": 36,
   "id": "b11027fa",
   "metadata": {},
   "outputs": [
    {
     "name": "stdout",
     "output_type": "stream",
     "text": [
      "Reduced feature shape: (97108, 50)\n"
     ]
    }
   ],
   "source": [
    "print(f\"Reduced feature shape: {X_reduced.shape}\")"
   ]
  },
  {
   "cell_type": "code",
   "execution_count": 37,
   "id": "b8d3df72",
   "metadata": {},
   "outputs": [],
   "source": [
    "# ----------------------\n",
    "# Step 2: Train-Test Split\n",
    "# ----------------------\n",
    "X_train, X_test, y_train, y_test = train_test_split(\n",
    "    X_reduced, y, test_size=0.2, random_state=42, stratify=y\n",
    ")"
   ]
  },
  {
   "cell_type": "code",
   "execution_count": 38,
   "id": "2914adc9",
   "metadata": {},
   "outputs": [],
   "source": [
    "# ----------------------\n",
    "# Step 6: Define models to train\n",
    "# ----------------------\n",
    "models = {\n",
    "    \"LogisticRegression\": LogisticRegression(max_iter=1000, random_state=42),\n",
    "    \"RandomForest\": RandomForestClassifier(n_estimators=100, max_depth=5, random_state=42),\n",
    "    \"XGBoost\": xgb.XGBClassifier(eval_metric=\"logloss\", random_state=42),\n",
    "}"
   ]
  },
  {
   "cell_type": "code",
   "execution_count": 39,
   "id": "dfbc75bd",
   "metadata": {},
   "outputs": [
    {
     "name": "stdout",
     "output_type": "stream",
     "text": [
      "Cross-validation F1 scores:\n",
      " - LogisticRegression: mean=0.0286, std=0.0051\n",
      " - RandomForest: mean=0.0027, std=0.0015\n",
      " - XGBoost: mean=0.0561, std=0.0067\n"
     ]
    }
   ],
   "source": [
    "# ----------------------\n",
    "# Step 7: Cross-validation results for comparison\n",
    "# ----------------------\n",
    "print(\"Cross-validation F1 scores:\")\n",
    "\n",
    "for name, model in models.items():\n",
    "    scores = cross_val_score(model, X_train, y_train, cv=5, scoring=\"f1\", n_jobs=-1)\n",
    "    print(f\" - {name}: mean={scores.mean():.4f}, std={scores.std():.4f}\")"
   ]
  },
  {
   "cell_type": "code",
   "execution_count": 40,
   "id": "2e0e02fb",
   "metadata": {},
   "outputs": [
    {
     "name": "stderr",
     "output_type": "stream",
     "text": [
      "Downloading artifacts: 100%|██████████| 7/7 [00:00<00:00, 606.70it/s]\n"
     ]
    },
    {
     "name": "stdout",
     "output_type": "stream",
     "text": [
      "✅ LogisticRegression trained and logged with signature.\n",
      "   F1 Score: 0.0305 ROC-AUC: 0.6512\n"
     ]
    },
    {
     "name": "stderr",
     "output_type": "stream",
     "text": [
      "Downloading artifacts: 100%|██████████| 7/7 [00:00<00:00, 636.33it/s]\n"
     ]
    },
    {
     "name": "stdout",
     "output_type": "stream",
     "text": [
      "✅ RandomForest trained and logged with signature.\n",
      "   F1 Score: 0.0027 ROC-AUC: 0.6488\n"
     ]
    },
    {
     "name": "stderr",
     "output_type": "stream",
     "text": [
      "Downloading artifacts: 100%|██████████| 7/7 [00:00<00:00, 398.67it/s]\n"
     ]
    },
    {
     "name": "stdout",
     "output_type": "stream",
     "text": [
      "✅ XGBoost trained and logged with signature.\n",
      "   F1 Score: 0.0569 ROC-AUC: 0.6134\n"
     ]
    }
   ],
   "source": [
    "mlflow.set_experiment(\"mediCareNet-readmission\")\n",
    "\n",
    "for name, model in models.items():\n",
    "    with mlflow.start_run(run_name=name):\n",
    "        # Train model\n",
    "        model.fit(X_train, y_train)\n",
    "        \n",
    "        # Predict\n",
    "        preds = model.predict(X_test)\n",
    "        proba = model.predict_proba(X_test)[:, 1] if hasattr(model, \"predict_proba\") else None\n",
    "        \n",
    "        # Metrics\n",
    "        f1 = f1_score(y_test, preds)\n",
    "        roc_auc = roc_auc_score(y_test, proba) if proba is not None else None\n",
    "        \n",
    "        # Infer model signature from training data\n",
    "        signature = infer_signature(X_train, model.predict(X_train))\n",
    "        \n",
    "        # Log parameters and metrics\n",
    "        mlflow.log_params(model.get_params())\n",
    "        mlflow.log_metric(\"f1_score\", f1)\n",
    "        if roc_auc is not None:\n",
    "            mlflow.log_metric(\"roc_auc\", roc_auc)\n",
    "        \n",
    "        # Log model with signature and input example (first 5 rows of train)\n",
    "        mlflow.sklearn.log_model(\n",
    "            sk_model=model,\n",
    "            artifact_path=\"model\",\n",
    "            signature=signature,\n",
    "            input_example=X_train[:5]\n",
    "        )\n",
    "        \n",
    "        print(f\"✅ {name} trained and logged with signature.\")\n",
    "        print(f\"   F1 Score: {f1:.4f}\", f\"ROC-AUC: {roc_auc:.4f}\" if roc_auc else \"\")"
   ]
  },
  {
   "cell_type": "code",
   "execution_count": 41,
   "id": "9561c024",
   "metadata": {},
   "outputs": [
    {
     "name": "stdout",
     "output_type": "stream",
     "text": [
      "Hyperparameter tuning for LogisticRegression...\n",
      "Fitting 3 folds for each of 20 candidates, totalling 60 fits\n",
      "Best params for LogisticRegression: {'C': np.float64(2.9314464853521813), 'class_weight': 'balanced', 'penalty': 'l2', 'solver': 'lbfgs'}\n",
      "Best CV F1 score for LogisticRegression: 0.2632\n",
      "Hyperparameter tuning for RandomForest...\n",
      "Fitting 3 folds for each of 20 candidates, totalling 60 fits\n",
      "Best params for RandomForest: {'bootstrap': False, 'class_weight': 'balanced', 'max_depth': 8, 'min_samples_leaf': 2, 'min_samples_split': 9, 'n_estimators': 237}\n",
      "Best CV F1 score for RandomForest: 0.2678\n",
      "Hyperparameter tuning for XGBoost...\n",
      "Fitting 3 folds for each of 20 candidates, totalling 60 fits\n"
     ]
    },
    {
     "name": "stderr",
     "output_type": "stream",
     "text": [
      "c:\\Users\\HOME\\Downloads\\MediCareNet\\.venv\\lib\\site-packages\\xgboost\\core.py:158: UserWarning: [00:17:07] WARNING: C:\\buildkite-agent\\builds\\buildkite-windows-cpu-autoscaling-group-i-08cbc0333d8d4aae1-1\\xgboost\\xgboost-ci-windows\\src\\learner.cc:740: \n",
      "Parameters: { \"use_label_encoder\" } are not used.\n",
      "\n",
      "  warnings.warn(smsg, UserWarning)\n"
     ]
    },
    {
     "name": "stdout",
     "output_type": "stream",
     "text": [
      "Best params for XGBoost: {'colsample_bytree': np.float64(0.9214688307596458), 'gamma': np.float64(0.9328502944301792), 'learning_rate': np.float64(0.2777676995469933), 'max_depth': 13, 'n_estimators': 177, 'reg_alpha': np.float64(0.8074401551640625), 'reg_lambda': np.float64(0.8960912999234932), 'subsample': np.float64(0.7272013899887455)}\n",
      "Best CV F1 score for XGBoost: 0.0602\n"
     ]
    }
   ],
   "source": [
    "from sklearn.model_selection import RandomizedSearchCV\n",
    "from scipy.stats import randint, uniform\n",
    "\n",
    "# Models to tune\n",
    "models = {\n",
    "    \"LogisticRegression\": LogisticRegression(max_iter=1000, random_state=42),\n",
    "    \"RandomForest\": RandomForestClassifier(random_state=42),\n",
    "    \"XGBoost\": xgb.XGBClassifier(eval_metric=\"logloss\", use_label_encoder=False, random_state=42),\n",
    "}\n",
    "\n",
    "# Parameter distributions for RandomizedSearchCV\n",
    "param_distributions = {\n",
    "    \"LogisticRegression\": {\n",
    "        \"C\": uniform(loc=0.01, scale=10),          # Regularization strength\n",
    "        \"penalty\": [\"l2\"],                         # L1 requires solver='liblinear', so keep L2 for simplicity\n",
    "        \"solver\": [\"lbfgs\", \"saga\"],\n",
    "        \"class_weight\": [None, \"balanced\"]\n",
    "    },\n",
    "    \"RandomForest\": {\n",
    "        \"n_estimators\": randint(50, 300),\n",
    "        \"max_depth\": randint(3, 20),\n",
    "        \"min_samples_split\": randint(2, 10),\n",
    "        \"min_samples_leaf\": randint(1, 5),\n",
    "        \"bootstrap\": [True, False],\n",
    "        \"class_weight\": [None, \"balanced\"]\n",
    "    },\n",
    "    \"XGBoost\": {\n",
    "        \"n_estimators\": randint(50, 300),\n",
    "        \"max_depth\": randint(3, 20),\n",
    "        \"learning_rate\": uniform(0.01, 0.3),\n",
    "        \"subsample\": uniform(0.6, 0.4),\n",
    "        \"colsample_bytree\": uniform(0.6, 0.4),\n",
    "        \"gamma\": uniform(0, 5),\n",
    "        \"reg_alpha\": uniform(0, 1),\n",
    "        \"reg_lambda\": uniform(0, 1),\n",
    "    }\n",
    "}\n",
    "\n",
    "# Number of parameter settings to sample\n",
    "n_iter_search = 20\n",
    "\n",
    "# Perform tuning for each model\n",
    "for name, model in models.items():\n",
    "    print(f\"Hyperparameter tuning for {name}...\")\n",
    "    param_dist = param_distributions[name]\n",
    "    \n",
    "    random_search = RandomizedSearchCV(\n",
    "        estimator=model,\n",
    "        param_distributions=param_dist,\n",
    "        n_iter=n_iter_search,\n",
    "        scoring=\"f1\",\n",
    "        cv=3,\n",
    "        verbose=2,\n",
    "        random_state=42,\n",
    "        n_jobs=-1,\n",
    "    )\n",
    "    \n",
    "    random_search.fit(X_train, y_train)\n",
    "    \n",
    "    print(f\"Best params for {name}: {random_search.best_params_}\")\n",
    "    print(f\"Best CV F1 score for {name}: {random_search.best_score_:.4f}\")\n",
    "    \n",
    "    # Update the model in dict with best estimator\n",
    "    models[name] = random_search.best_estimator_\n"
   ]
  },
  {
   "cell_type": "code",
   "execution_count": 42,
   "id": "ab6e5407",
   "metadata": {},
   "outputs": [
    {
     "name": "stdout",
     "output_type": "stream",
     "text": [
      "Test set performance of tuned models:\n",
      "LogisticRegression:\n",
      "  Accuracy: 0.6497\n",
      "  F1 Score: 0.2695\n",
      "  ROC-AUC: 0.6529\n",
      "\n",
      "RandomForest:\n",
      "  Accuracy: 0.6695\n",
      "  F1 Score: 0.2679\n",
      "  ROC-AUC: 0.6561\n",
      "\n",
      "XGBoost:\n",
      "  Accuracy: 0.8801\n",
      "  F1 Score: 0.0635\n",
      "  ROC-AUC: 0.6043\n",
      "\n"
     ]
    }
   ],
   "source": [
    "from sklearn.metrics import accuracy_score, f1_score, roc_auc_score\n",
    "\n",
    "print(\"Test set performance of tuned models:\")\n",
    "\n",
    "for name, model in models.items():\n",
    "    # Predict on test set\n",
    "    preds = model.predict(X_test)\n",
    "    \n",
    "    # Accuracy\n",
    "    acc = accuracy_score(y_test, preds)\n",
    "    \n",
    "    # F1 Score\n",
    "    f1 = f1_score(y_test, preds)\n",
    "    \n",
    "    # ROC-AUC (if probability available)\n",
    "    if hasattr(model, \"predict_proba\"):\n",
    "        proba = model.predict_proba(X_test)[:, 1]\n",
    "        roc_auc = roc_auc_score(y_test, proba)\n",
    "    else:\n",
    "        roc_auc = None\n",
    "    \n",
    "    print(f\"{name}:\")\n",
    "    print(f\"  Accuracy: {acc:.4f}\")\n",
    "    print(f\"  F1 Score: {f1:.4f}\")\n",
    "    if roc_auc is not None:\n",
    "        print(f\"  ROC-AUC: {roc_auc:.4f}\")\n",
    "    print()\n"
   ]
  },
  {
   "cell_type": "code",
   "execution_count": null,
   "id": "96ba43d7",
   "metadata": {},
   "outputs": [
    {
     "name": "stderr",
     "output_type": "stream",
     "text": [
      "c:\\Users\\HOME\\Downloads\\MediCareNet\\.venv\\lib\\site-packages\\xgboost\\core.py:158: UserWarning: [14:51:10] WARNING: C:\\buildkite-agent\\builds\\buildkite-windows-cpu-autoscaling-group-i-08cbc0333d8d4aae1-1\\xgboost\\xgboost-ci-windows\\src\\learner.cc:740: \n",
      "Parameters: { \"use_label_encoder\" } are not used.\n",
      "\n",
      "  warnings.warn(smsg, UserWarning)\n"
     ]
    },
    {
     "name": "stdout",
     "output_type": "stream",
     "text": [
      "F1 Score: 0.2338, ROC-AUC: 0.6088\n"
     ]
    }
   ],
   "source": [
    "# Calculate scale_pos_weight\n",
    "neg_count = sum(y_train == 0)\n",
    "pos_count = sum(y_train == 1)\n",
    "scale_pos_weight = neg_count / pos_count\n",
    "\n",
    "# Create XGBoost with scale_pos_weight\n",
    "xgb_model = xgb.XGBClassifier(\n",
    "    eval_metric=\"logloss\",\n",
    "    random_state=42,\n",
    "    scale_pos_weight=scale_pos_weight,\n",
    ")\n",
    "\n",
    "# Fit and evaluate as before\n",
    "xgb_model.fit(X_train, y_train)\n",
    "preds = xgb_model.predict(X_test)\n",
    "proba = xgb_model.predict_proba(X_test)[:, 1]\n",
    "\n",
    "from sklearn.metrics import f1_score, roc_auc_score\n",
    "f1 = f1_score(y_test, preds)\n",
    "roc_auc = roc_auc_score(y_test, proba)\n",
    "\n",
    "print(f\"F1 Score: {f1:.4f}, ROC-AUC: {roc_auc:.4f}\")\n"
   ]
  },
  {
   "cell_type": "code",
   "execution_count": 47,
   "id": "67ddcb16",
   "metadata": {},
   "outputs": [
    {
     "name": "stdout",
     "output_type": "stream",
     "text": [
      "Best threshold: 0.47 with F1: 0.2406\n"
     ]
    }
   ],
   "source": [
    "from sklearn.metrics import f1_score\n",
    "\n",
    "best_threshold = 0.5\n",
    "best_f1 = 0\n",
    "\n",
    "thresholds = [i * 0.01 for i in range(1, 100)]  # 0.01 to 0.99\n",
    "\n",
    "for threshold in thresholds:\n",
    "    preds = (proba >= threshold).astype(int)\n",
    "    f1 = f1_score(y_test, preds)\n",
    "    if f1 > best_f1:\n",
    "        best_f1 = f1\n",
    "        best_threshold = threshold\n",
    "\n",
    "print(f\"Best threshold: {best_threshold:.2f} with F1: {best_f1:.4f}\")"
   ]
  },
  {
   "cell_type": "code",
   "execution_count": 48,
   "id": "47bb459e",
   "metadata": {},
   "outputs": [
    {
     "data": {
      "image/png": "[encoded data removed]",
      "text/plain": [
       "<Figure size 640x480 with 1 Axes>"
      ]
     },
     "metadata": {},
     "output_type": "display_data"
    }
   ],
   "source": [
    "import matplotlib.pyplot as plt\n",
    "\n",
    "f1_scores = []\n",
    "\n",
    "for threshold in thresholds:\n",
    "    preds = (proba >= threshold).astype(int)\n",
    "    f1_scores.append(f1_score(y_test, preds))\n",
    "\n",
    "plt.plot(thresholds, f1_scores)\n",
    "plt.xlabel(\"Threshold\")\n",
    "plt.ylabel(\"F1 Score\")\n",
    "plt.title(\"F1 Score vs Classification Threshold\")\n",
    "plt.show()\n"
   ]
  },
  {
   "cell_type": "code",
   "execution_count": 50,
   "id": "ff615ba5",
   "metadata": {},
   "outputs": [
    {
     "name": "stderr",
     "output_type": "stream",
     "text": [
      "Downloading artifacts: 100%|██████████| 7/7 [00:00<00:00, 583.42it/s] \n"
     ]
    },
    {
     "name": "stdout",
     "output_type": "stream",
     "text": [
      "✅ LogisticRegression trained and logged with adaptive threshold 0.54\n",
      "   Best F1 Score: 0.2713\n",
      "   ROC-AUC: 0.6529\n",
      "              precision    recall  f1-score   support\n",
      "\n",
      "           0       0.91      0.76      0.83     17197\n",
      "           1       0.19      0.45      0.27      2225\n",
      "\n",
      "    accuracy                           0.72     19422\n",
      "   macro avg       0.55      0.60      0.55     19422\n",
      "weighted avg       0.83      0.72      0.76     19422\n",
      "\n"
     ]
    },
    {
     "name": "stderr",
     "output_type": "stream",
     "text": [
      "Downloading artifacts: 100%|██████████| 7/7 [00:00<00:00, 297.60it/s]\n"
     ]
    },
    {
     "name": "stdout",
     "output_type": "stream",
     "text": [
      "✅ RandomForest trained and logged with adaptive threshold 0.51\n",
      "   Best F1 Score: 0.2718\n",
      "   ROC-AUC: 0.6561\n",
      "              precision    recall  f1-score   support\n",
      "\n",
      "           0       0.92      0.73      0.81     17197\n",
      "           1       0.19      0.49      0.27      2225\n",
      "\n",
      "    accuracy                           0.70     19422\n",
      "   macro avg       0.55      0.61      0.54     19422\n",
      "weighted avg       0.83      0.70      0.75     19422\n",
      "\n"
     ]
    },
    {
     "name": "stderr",
     "output_type": "stream",
     "text": [
      "c:\\Users\\HOME\\Downloads\\MediCareNet\\.venv\\lib\\site-packages\\xgboost\\core.py:158: UserWarning: [15:05:12] WARNING: C:\\buildkite-agent\\builds\\buildkite-windows-cpu-autoscaling-group-i-08cbc0333d8d4aae1-1\\xgboost\\xgboost-ci-windows\\src\\learner.cc:740: \n",
      "Parameters: { \"use_label_encoder\" } are not used.\n",
      "\n",
      "  warnings.warn(smsg, UserWarning)\n",
      "Downloading artifacts: 100%|██████████| 7/7 [00:00<00:00, 466.78it/s]\n"
     ]
    },
    {
     "name": "stdout",
     "output_type": "stream",
     "text": [
      "✅ XGBoost trained and logged with adaptive threshold 0.06\n",
      "   Best F1 Score: 0.2341\n",
      "   ROC-AUC: 0.6043\n",
      "              precision    recall  f1-score   support\n",
      "\n",
      "           0       0.91      0.71      0.80     17197\n",
      "           1       0.16      0.43      0.23      2225\n",
      "\n",
      "    accuracy                           0.68     19422\n",
      "   macro avg       0.53      0.57      0.52     19422\n",
      "weighted avg       0.82      0.68      0.73     19422\n",
      "\n"
     ]
    }
   ],
   "source": [
    "from sklearn.metrics import f1_score, roc_auc_score, classification_report\n",
    "\n",
    "mlflow.set_experiment(\"mediCareNet-readmission\")\n",
    "\n",
    "for name, model in models.items():\n",
    "    with mlflow.start_run(run_name=name):\n",
    "        model.fit(X_train, y_train)\n",
    "        \n",
    "        # Predict probabilities if available\n",
    "        if hasattr(model, \"predict_proba\"):\n",
    "            proba = model.predict_proba(X_test)[:, 1]\n",
    "            \n",
    "            # Tune threshold for best F1\n",
    "            thresholds = np.linspace(0.01, 0.99, 99)\n",
    "            f1_scores = []\n",
    "            for t in thresholds:\n",
    "                preds = (proba >= t).astype(int)\n",
    "                f1_scores.append(f1_score(y_test, preds))\n",
    "            \n",
    "            best_idx = np.argmax(f1_scores)\n",
    "            best_threshold = thresholds[best_idx]\n",
    "            best_f1 = f1_scores[best_idx]\n",
    "            \n",
    "            # Use best threshold for final preds\n",
    "            final_preds = (proba >= best_threshold).astype(int)\n",
    "            \n",
    "            roc_auc = roc_auc_score(y_test, proba)\n",
    "            \n",
    "        else:\n",
    "            # For models without predict_proba\n",
    "            final_preds = model.predict(X_test)\n",
    "            best_threshold = 0.5  # default\n",
    "            best_f1 = f1_score(y_test, final_preds)\n",
    "            roc_auc = None\n",
    "        \n",
    "        # Log parameters and metrics including best threshold\n",
    "        signature = infer_signature(X_train, model.predict(X_train))\n",
    "        mlflow.log_params(model.get_params())\n",
    "        mlflow.log_metric(\"f1_score\", best_f1)\n",
    "        mlflow.log_metric(\"best_threshold\", best_threshold)\n",
    "        if roc_auc is not None:\n",
    "            mlflow.log_metric(\"roc_auc\", roc_auc)\n",
    "        \n",
    "        # Log model with signature and example\n",
    "        mlflow.sklearn.log_model(\n",
    "            sk_model=model,\n",
    "            artifact_path=\"model\",\n",
    "            signature=signature,\n",
    "            input_example=X_train[:5]\n",
    "        )\n",
    "        \n",
    "        print(f\"✅ {name} trained and logged with adaptive threshold {best_threshold:.2f}\")\n",
    "        print(f\"   Best F1 Score: {best_f1:.4f}\")\n",
    "        if roc_auc is not None:\n",
    "            print(f\"   ROC-AUC: {roc_auc:.4f}\")\n",
    "        print(classification_report(y_test, final_preds))\n"
   ]
  }
 ],
 "metadata": {
  "kernelspec": {
   "display_name": ".venv",
   "language": "python",
   "name": "python3"
  },
  "language_info": {
   "codemirror_mode": {
    "name": "ipython",
    "version": 3
   },
   "file_extension": ".py",
   "mimetype": "text/x-python",
   "name": "python",
   "nbconvert_exporter": "python",
   "pygments_lexer": "ipython3",
   "version": "3.9.0"
  }
 },
 "nbformat": 4,
 "nbformat_minor": 5
}
